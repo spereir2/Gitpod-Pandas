{
 "cells": [
  {
   "cell_type": "code",
   "execution_count": 1,
   "metadata": {},
   "outputs": [],
   "source": [
    "import pandas as pd"
   ]
  },
  {
   "cell_type": "code",
   "execution_count": 3,
   "metadata": {},
   "outputs": [
    {
     "data": {
      "text/html": [
       "<div>\n",
       "<style scoped>\n",
       "    .dataframe tbody tr th:only-of-type {\n",
       "        vertical-align: middle;\n",
       "    }\n",
       "\n",
       "    .dataframe tbody tr th {\n",
       "        vertical-align: top;\n",
       "    }\n",
       "\n",
       "    .dataframe thead th {\n",
       "        text-align: right;\n",
       "    }\n",
       "</style>\n",
       "<table border=\"1\" class=\"dataframe\">\n",
       "  <thead>\n",
       "    <tr style=\"text-align: right;\">\n",
       "      <th></th>\n",
       "      <th>species</th>\n",
       "      <th>name</th>\n",
       "      <th>legs</th>\n",
       "      <th>wings</th>\n",
       "      <th>looking_for_home</th>\n",
       "    </tr>\n",
       "  </thead>\n",
       "  <tbody>\n",
       "    <tr>\n",
       "      <th>0</th>\n",
       "      <td>cat</td>\n",
       "      <td>Dr. Mittens Lamar</td>\n",
       "      <td>4</td>\n",
       "      <td>0</td>\n",
       "      <td>no</td>\n",
       "    </tr>\n",
       "    <tr>\n",
       "      <th>1</th>\n",
       "      <td>dog</td>\n",
       "      <td>Diesel</td>\n",
       "      <td>4</td>\n",
       "      <td>0</td>\n",
       "      <td>no</td>\n",
       "    </tr>\n",
       "    <tr>\n",
       "      <th>2</th>\n",
       "      <td>parrot</td>\n",
       "      <td>Peach</td>\n",
       "      <td>2</td>\n",
       "      <td>2</td>\n",
       "      <td>no</td>\n",
       "    </tr>\n",
       "    <tr>\n",
       "      <th>3</th>\n",
       "      <td>cockroach</td>\n",
       "      <td>Richard</td>\n",
       "      <td>6</td>\n",
       "      <td>4</td>\n",
       "      <td>yes</td>\n",
       "    </tr>\n",
       "  </tbody>\n",
       "</table>\n",
       "</div>"
      ],
      "text/plain": [
       "     species               name  legs  wings looking_for_home\n",
       "0        cat  Dr. Mittens Lamar     4      0               no\n",
       "1        dog             Diesel     4      0               no\n",
       "2     parrot              Peach     2      2               no\n",
       "3  cockroach            Richard     6      4              yes"
      ]
     },
     "execution_count": 3,
     "metadata": {},
     "output_type": "execute_result"
    }
   ],
   "source": [
    "pets = {\n",
    "    'species': ['cat', 'dog', 'parrot', 'cockroach'], \n",
    "    'name': ['Dr. Mittens Lamar', 'Diesel', 'Peach', 'Richard'], \n",
    "    'legs': [4, 4, 2, 6],\n",
    "    'wings': [0, 0, 2, 4],\n",
    "    'looking_for_home': ['no', 'no', 'no', 'yes']\n",
    "}\n",
    "df = pd.DataFrame(pets)\n",
    "df.head()"
   ]
  },
  {
   "cell_type": "markdown",
   "metadata": {},
   "source": [
    "You can see the row index in the first column on the left. Column names **(labels)** are in the header. Another way to describe indexing is **axis labeling**. You can see two axes in our data frame, vertical (rows) — `axis 0` and horizontal (columns) — `axis 1`. Let's take a look at the axes of our DataFrame by accessing the df.axes attribute."
   ]
  },
  {
   "cell_type": "code",
   "execution_count": 17,
   "metadata": {},
   "outputs": [
    {
     "name": "stdout",
     "output_type": "stream",
     "text": [
      "<class 'pandas.core.frame.DataFrame'>\n",
      "RangeIndex: 5 entries, 0 to 4\n",
      "Data columns (total 1 columns):\n",
      " #   Column                                                   Non-Null Count  Dtype \n",
      "---  ------                                                   --------------  ----- \n",
      " 0   zero_deg sixty_deg ninety_deg straight_angle name label  5 non-null      object\n",
      "dtypes: object(1)\n",
      "memory usage: 172.0+ bytes\n"
     ]
    }
   ],
   "source": [
    "df.info()"
   ]
  },
  {
   "cell_type": "code",
   "execution_count": 16,
   "metadata": {},
   "outputs": [
    {
     "data": {
      "text/plain": [
       "RangeIndex(start=0, stop=5, step=1)"
      ]
     },
     "execution_count": 16,
     "metadata": {},
     "output_type": "execute_result"
    }
   ],
   "source": [
    "df.index"
   ]
  },
  {
   "cell_type": "code",
   "execution_count": 7,
   "metadata": {},
   "outputs": [
    {
     "data": {
      "text/plain": [
       "Index(['species', 'name', 'legs', 'wings', 'looking_for_home'], dtype='object')"
      ]
     },
     "execution_count": 7,
     "metadata": {},
     "output_type": "execute_result"
    }
   ],
   "source": [
    "df.columns"
   ]
  },
  {
   "cell_type": "markdown",
   "metadata": {},
   "source": [
    "### Exercises"
   ]
  },
  {
   "cell_type": "code",
   "execution_count": 21,
   "metadata": {},
   "outputs": [],
   "source": [
    "from io import StringIO\n",
    "data = \"\"\"zero_deg sixty_deg ninety_deg straight_angle name label\n",
    "0 0.437427 0.127416 0.258251 0.425674 EAO2 Mine\n",
    "1 0.421407 0.439730 0.560459 0.424267 PD38 Mine\n",
    "2 0.205278 0.434688 0.398431 0.532222 JL46 Rock\n",
    "3 0.094910 0.132226 0.105227 0.156142 M7V9 Rock\n",
    "4 0.314031 0.272306 0.057900 0.486960 PIYW Rock\n",
    "\"\"\""
   ]
  },
  {
   "cell_type": "code",
   "execution_count": 23,
   "metadata": {},
   "outputs": [
    {
     "name": "stdout",
     "output_type": "stream",
     "text": [
      "  zero_deg sixty_deg ninety_deg straight_angle name label\n",
      "0    0 0.437427 0.127416 0.258251 0.425674 EAO2 Mine     \n",
      "1    1 0.421407 0.439730 0.560459 0.424267 PD38 Mine     \n",
      "2    2 0.205278 0.434688 0.398431 0.532222 JL46 Rock     \n",
      "3    3 0.094910 0.132226 0.105227 0.156142 M7V9 Rock     \n",
      "4    4 0.314031 0.272306 0.057900 0.486960 PIYW Rock     \n"
     ]
    }
   ],
   "source": [
    "# Use StringIO to simulate a file-like object\n",
    "data_io = StringIO(data)\n",
    "# Load the data into a pandas DataFrame\n",
    "df = pd.read_csv(data_io, sep='\\t')\n",
    "# Display the DataFrame\n",
    "print(df)"
   ]
  },
  {
   "cell_type": "code",
   "execution_count": 30,
   "metadata": {},
   "outputs": [
    {
     "data": {
      "text/html": [
       "<div>\n",
       "<style scoped>\n",
       "    .dataframe tbody tr th:only-of-type {\n",
       "        vertical-align: middle;\n",
       "    }\n",
       "\n",
       "    .dataframe tbody tr th {\n",
       "        vertical-align: top;\n",
       "    }\n",
       "\n",
       "    .dataframe thead th {\n",
       "        text-align: right;\n",
       "    }\n",
       "</style>\n",
       "<table border=\"1\" class=\"dataframe\">\n",
       "  <thead>\n",
       "    <tr style=\"text-align: right;\">\n",
       "      <th></th>\n",
       "      <th>zero_deg</th>\n",
       "      <th>sixty_deg</th>\n",
       "      <th>ninety_deg</th>\n",
       "      <th>straight_angle</th>\n",
       "      <th>label</th>\n",
       "    </tr>\n",
       "    <tr>\n",
       "      <th>name</th>\n",
       "      <th></th>\n",
       "      <th></th>\n",
       "      <th></th>\n",
       "      <th></th>\n",
       "      <th></th>\n",
       "    </tr>\n",
       "  </thead>\n",
       "  <tbody>\n",
       "    <tr>\n",
       "      <th>EAO2</th>\n",
       "      <td>0.437427</td>\n",
       "      <td>0.127416</td>\n",
       "      <td>0.258251</td>\n",
       "      <td>0.425674</td>\n",
       "      <td>Mine</td>\n",
       "    </tr>\n",
       "    <tr>\n",
       "      <th>PD38</th>\n",
       "      <td>0.421407</td>\n",
       "      <td>0.439730</td>\n",
       "      <td>0.560459</td>\n",
       "      <td>0.424267</td>\n",
       "      <td>Mine</td>\n",
       "    </tr>\n",
       "    <tr>\n",
       "      <th>JL46</th>\n",
       "      <td>0.205278</td>\n",
       "      <td>0.434688</td>\n",
       "      <td>0.398431</td>\n",
       "      <td>0.532222</td>\n",
       "      <td>Rock</td>\n",
       "    </tr>\n",
       "    <tr>\n",
       "      <th>M7V9</th>\n",
       "      <td>0.094910</td>\n",
       "      <td>0.132226</td>\n",
       "      <td>0.105227</td>\n",
       "      <td>0.156142</td>\n",
       "      <td>Rock</td>\n",
       "    </tr>\n",
       "    <tr>\n",
       "      <th>PIYW</th>\n",
       "      <td>0.314031</td>\n",
       "      <td>0.272306</td>\n",
       "      <td>0.057900</td>\n",
       "      <td>0.486960</td>\n",
       "      <td>Rock</td>\n",
       "    </tr>\n",
       "  </tbody>\n",
       "</table>\n",
       "</div>"
      ],
      "text/plain": [
       "      zero_deg  sixty_deg  ninety_deg  straight_angle label\n",
       "name                                                       \n",
       "EAO2  0.437427   0.127416    0.258251        0.425674  Mine\n",
       "PD38  0.421407   0.439730    0.560459        0.424267  Mine\n",
       "JL46  0.205278   0.434688    0.398431        0.532222  Rock\n",
       "M7V9  0.094910   0.132226    0.105227        0.156142  Rock\n",
       "PIYW  0.314031   0.272306    0.057900        0.486960  Rock"
      ]
     },
     "execution_count": 30,
     "metadata": {},
     "output_type": "execute_result"
    }
   ],
   "source": [
    "df.head()"
   ]
  },
  {
   "cell_type": "code",
   "execution_count": 25,
   "metadata": {},
   "outputs": [
    {
     "data": {
      "text/plain": [
       "[RangeIndex(start=0, stop=5, step=1),\n",
       " Index(['zero_deg sixty_deg ninety_deg straight_angle name label'], dtype='object')]"
      ]
     },
     "execution_count": 25,
     "metadata": {},
     "output_type": "execute_result"
    }
   ],
   "source": [
    "df.axes"
   ]
  },
  {
   "cell_type": "code",
   "execution_count": 29,
   "metadata": {},
   "outputs": [],
   "source": [
    "df.set_index('name', inplace=True)"
   ]
  },
  {
   "cell_type": "code",
   "execution_count": 27,
   "metadata": {},
   "outputs": [],
   "source": [
    "data = {\n",
    "    \"zero_deg\": [0.437427, 0.421407, 0.205278, 0.094910, 0.314031],\n",
    "    \"sixty_deg\": [0.127416, 0.439730, 0.434688, 0.132226, 0.272306],\n",
    "    \"ninety_deg\": [0.258251, 0.560459, 0.398431, 0.105227, 0.057900],\n",
    "    \"straight_angle\": [0.425674, 0.424267, 0.532222, 0.156142, 0.486960],\n",
    "    \"name\": [\"EAO2\", \"PD38\", \"JL46\", \"M7V9\", \"PIYW\"],\n",
    "    \"label\": [\"Mine\", \"Mine\", \"Rock\", \"Rock\", \"Rock\"]\n",
    "}"
   ]
  },
  {
   "cell_type": "code",
   "execution_count": 28,
   "metadata": {},
   "outputs": [],
   "source": [
    "df = pd.DataFrame(data)"
   ]
  }
 ],
 "metadata": {
  "kernelspec": {
   "display_name": "Python 3",
   "language": "python",
   "name": "python3"
  },
  "language_info": {
   "codemirror_mode": {
    "name": "ipython",
    "version": 3
   },
   "file_extension": ".py",
   "mimetype": "text/x-python",
   "name": "python",
   "nbconvert_exporter": "python",
   "pygments_lexer": "ipython3",
   "version": "3.12.6"
  }
 },
 "nbformat": 4,
 "nbformat_minor": 2
}
